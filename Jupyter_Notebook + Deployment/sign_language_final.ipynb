{
  "nbformat": 4,
  "nbformat_minor": 0,
  "metadata": {
    "colab": {
      "name": "sign_language_final",
      "provenance": []
    },
    "kernelspec": {
      "name": "python3",
      "display_name": "Python 3"
    },
    "language_info": {
      "name": "python"
    },
    "accelerator": "GPU"
  },
  "cells": [
    {
      "cell_type": "code",
      "metadata": {
        "id": "C7l9IPlLY_hV"
      },
      "source": [
        "!pip3 install virtualenv"
      ],
      "execution_count": null,
      "outputs": []
    },
    {
      "cell_type": "code",
      "metadata": {
        "id": "FdXeOgdxZBO8"
      },
      "source": [
        "!virtualenv theano"
      ],
      "execution_count": null,
      "outputs": []
    },
    {
      "cell_type": "code",
      "metadata": {
        "id": "DXOw6o52ZUGN"
      },
      "source": [
        "!source /content/theano/bin/activate; pip3 install theano"
      ],
      "execution_count": null,
      "outputs": []
    },
    {
      "cell_type": "code",
      "metadata": {
        "id": "UVexkZUcZpBi"
      },
      "source": [
        "!source /content/theano/bin/activate; pip3 list"
      ],
      "execution_count": null,
      "outputs": []
    },
    {
      "cell_type": "code",
      "metadata": {
        "id": "f5RS0TcLRcRD"
      },
      "source": [
        "from google.colab import drive\n",
        "drive.mount('/content/drive')"
      ],
      "execution_count": null,
      "outputs": []
    },
    {
      "cell_type": "code",
      "metadata": {
        "id": "eq72fauZQCV6"
      },
      "source": [
        "DATA_DIR = \"/content/drive/MyDrive/Sign_language_final/\"\n",
        "MAIN_DIR = \"/content/drive/MyDrive/Sign_language_final/SSD_Mobilenet_V2_640x640/\"\n",
        "MODEL_DIR = MAIN_DIR + \"ssd_mobilenet_v2_fpnlite_640x640_coco17_tpu-8/\"\n",
        "CONFIG_FILE = MODEL_DIR + \"pipeline.config\"\n",
        "CHECKPOINT_PATH = MODEL_DIR + \"checkpoint/ckpt-0\""
      ],
      "execution_count": null,
      "outputs": []
    },
    {
      "cell_type": "code",
      "metadata": {
        "id": "foEfbsoqRz-w"
      },
      "source": [
        "!wget 'http://download.tensorflow.org/models/object_detection/tf2/20200711/ssd_mobilenet_v2_fpnlite_640x640_coco17_tpu-8.tar.gz'\n",
        "!mv '/content/ssd_mobilenet_v2_fpnlite_640x640_coco17_tpu-8.tar.gz' {MAIN_DIR}\n",
        "!cd {MAIN_DIR} && tar -zxvf ssd_mobilenet_v2_fpnlite_640x640_coco17_tpu-8.tar.gz"
      ],
      "execution_count": null,
      "outputs": []
    },
    {
      "cell_type": "code",
      "metadata": {
        "id": "BkjXG6a2R42u"
      },
      "source": [
        ""
      ],
      "execution_count": null,
      "outputs": []
    },
    {
      "cell_type": "markdown",
      "metadata": {
        "id": "LTEycGsDT1Wt"
      },
      "source": [
        "# Download the object detection repo on github\n"
      ]
    },
    {
      "cell_type": "code",
      "metadata": {
        "id": "j0wbS6yhT4TP"
      },
      "source": [
        "!cd {MAIN_DIR} && git clone https://github.com/tensorflow/models.git"
      ],
      "execution_count": null,
      "outputs": []
    },
    {
      "cell_type": "code",
      "metadata": {
        "id": "V5uSXZqsT5Fh"
      },
      "source": [
        "%%bash\n",
        "cd /content/drive/MyDrive/Sign_language_final/SSD_Mobilenet_V2_640x640/models/research/\n",
        "protoc object_detection/protos/*.proto --python_out=.\n",
        "cp object_detection/packages/tf2/setup.py .\n",
        "python -m pip install ."
      ],
      "execution_count": null,
      "outputs": []
    },
    {
      "cell_type": "code",
      "metadata": {
        "id": "MN0xmXSuU68V"
      },
      "source": [
        "import matplotlib\n",
        "import matplotlib.pyplot as plt\n",
        "\n",
        "import io\n",
        "import scipy.misc\n",
        "import numpy as np\n",
        "from six import BytesIO\n",
        "from PIL import Image, ImageDraw, ImageFont\n",
        "\n",
        "import tensorflow as tf\n",
        "\n",
        "from object_detection.utils import label_map_util\n",
        "from object_detection.utils import config_util\n",
        "from object_detection.utils import visualization_utils as viz_utils\n",
        "from object_detection.builders import model_builder\n",
        "\n",
        "%matplotlib inline"
      ],
      "execution_count": null,
      "outputs": []
    },
    {
      "cell_type": "code",
      "metadata": {
        "id": "Ulg0XMH_ffqz"
      },
      "source": [
        ""
      ],
      "execution_count": null,
      "outputs": []
    },
    {
      "cell_type": "code",
      "metadata": {
        "id": "UNlKhLeRVagy"
      },
      "source": [
        "CUSTOM_MODEL_NAME = 'ssd_mobilenet_v2'"
      ],
      "execution_count": null,
      "outputs": []
    },
    {
      "cell_type": "code",
      "metadata": {
        "id": "cMjmYXz0VdOU"
      },
      "source": [
        "!mkdir {MAIN_DIR+CUSTOM_MODEL_NAME}\n",
        "!cp {CONFIG_FILE} {MAIN_DIR+CUSTOM_MODEL_NAME}"
      ],
      "execution_count": null,
      "outputs": []
    },
    {
      "cell_type": "code",
      "metadata": {
        "id": "_-vsexuIYQby"
      },
      "source": [
        "#!pip freeze requirements.txt"
      ],
      "execution_count": null,
      "outputs": []
    },
    {
      "cell_type": "code",
      "metadata": {
        "id": "7pmVYH2PV2Zc"
      },
      "source": [
        "#!pip install tensorboard==1.11.0"
      ],
      "execution_count": null,
      "outputs": []
    },
    {
      "cell_type": "code",
      "metadata": {
        "id": "lkj9ZpLvY-el"
      },
      "source": [
        ""
      ],
      "execution_count": null,
      "outputs": []
    },
    {
      "cell_type": "code",
      "metadata": {
        "id": "eEjwPaW8Veve"
      },
      "source": [
        "import tensorflow as tf\n",
        "from object_detection.utils import config_util\n",
        "from object_detection.protos import pipeline_pb2\n"
      ],
      "execution_count": null,
      "outputs": []
    },
    {
      "cell_type": "code",
      "metadata": {
        "id": "I5mJu3CBb7-F"
      },
      "source": [
        "!pip install protobuf"
      ],
      "execution_count": null,
      "outputs": []
    },
    {
      "cell_type": "code",
      "metadata": {
        "id": "nwxL8o2Jdmw2"
      },
      "source": [
        "!pip install google-cloud\n",
        "!pip install google"
      ],
      "execution_count": null,
      "outputs": []
    },
    {
      "cell_type": "code",
      "metadata": {
        "id": "3kLFVMxXbrI0"
      },
      "source": [
        "!pip install tensorboard==1.12.2"
      ],
      "execution_count": null,
      "outputs": []
    },
    {
      "cell_type": "code",
      "metadata": {
        "id": "bG1yvQoOd20j"
      },
      "source": [
        "!pip show tensorboard"
      ],
      "execution_count": null,
      "outputs": []
    },
    {
      "cell_type": "code",
      "metadata": {
        "id": "SAmuTXbrlubp"
      },
      "source": [
        "CUSTOM_PIPELINE = MAIN_DIR+CUSTOM_MODEL_NAME+\"/pipeline.config\""
      ],
      "execution_count": null,
      "outputs": []
    },
    {
      "cell_type": "code",
      "metadata": {
        "id": "5WhMOJfgfMM0"
      },
      "source": [
        "CUSTOM_PIPELINE = MAIN_DIR+CUSTOM_MODEL_NAME+\"/pipeline.config\"\n",
        "config = config_util.get_configs_from_pipeline_file(CUSTOM_PIPELINE)\n"
      ],
      "execution_count": null,
      "outputs": []
    },
    {
      "cell_type": "code",
      "metadata": {
        "id": "VwOoEESHfcNF"
      },
      "source": [
        "%cd /content/drive/MyDrive/constant\n",
        "#!git clone --quiet https://github.com/tensorflow/models.git\n",
        "!pip install tf_slim\n",
        "\n",
        "!apt-get install -qq protobuf-compiler python-pil python-lxml python-tk\n",
        "\n",
        "!pip install -q Cython contextlib2 pillow lxml matplotlib\n",
        "\n",
        "!pip install -q pycocotools\n",
        "\n",
        "!pip install lvis\n",
        "\n",
        "%cd /content/drive/MyDrive/constant/models/research\n",
        "!protoc object_detection/protos/*.proto --python_out=.\n",
        "#sys.path.append(os.environ[\"models/research\"])\n",
        "\n",
        "import os\n",
        "os.environ['PYTHONPATH'] += ':/content/drive/MyDrive/constant/models/research/:/content/drive/MyDrive/constant/models/research/slim/'\n",
        "\n",
        "!python object_detection/builders/model_builder_test.py"
      ],
      "execution_count": null,
      "outputs": []
    },
    {
      "cell_type": "code",
      "metadata": {
        "id": "_cAkIFLCfjdP"
      },
      "source": [
        "from google.protobuf import text_format"
      ],
      "execution_count": null,
      "outputs": []
    },
    {
      "cell_type": "code",
      "metadata": {
        "id": "7Sedq_G-ej6I"
      },
      "source": [
        "pipeline_config = pipeline_pb2.TrainEvalPipelineConfig()\n",
        "with tf.io.gfile.GFile(CUSTOM_PIPELINE, \"r\") as f:                                                                                                                                                                                                                     \n",
        "    proto_str = f.read()                                                                                                                                                                                                                                          \n",
        "    text_format.Merge(proto_str, pipeline_config)"
      ],
      "execution_count": null,
      "outputs": []
    },
    {
      "cell_type": "code",
      "metadata": {
        "id": "ihhOMzeYfF_v"
      },
      "source": [
        "pipeline_config.model.ssd.num_classes = 26\n",
        "pipeline_config.train_config.batch_size = 10\n",
        "pipeline_config.train_config.fine_tune_checkpoint = CHECKPOINT_PATH\n",
        "pipeline_config.train_config.fine_tune_checkpoint_type = \"detection\"\n",
        "pipeline_config.train_input_reader.label_map_path= '/content/drive/MyDrive/dataset/train/Letters_label_map.pbtxt'\n",
        "pipeline_config.train_input_reader.tf_record_input_reader.input_path[:] = ['/content/drive/MyDrive/dataset/train/Letters.tfrecord']\n",
        "pipeline_config.eval_input_reader[0].label_map_path = '/content/drive/MyDrive/dataset/test/Letters_label_map.pbtxt'\n",
        "pipeline_config.eval_input_reader[0].tf_record_input_reader.input_path[:] = ['/content/drive/MyDrive/dataset/test/Letters.tfrecord']"
      ],
      "execution_count": null,
      "outputs": []
    },
    {
      "cell_type": "code",
      "metadata": {
        "id": "xMPvCc-8ga64"
      },
      "source": [
        "config_text = text_format.MessageToString(pipeline_config)                                                                                                                                                                                                        \n",
        "with tf.io.gfile.GFile(CUSTOM_PIPELINE, \"wb\") as f:                                                                                                                                                                                                                     \n",
        "    f.write(config_text)"
      ],
      "execution_count": null,
      "outputs": []
    },
    {
      "cell_type": "code",
      "metadata": {
        "id": "OCPnut6NgdY3"
      },
      "source": [
        "!python {'/content/drive/MyDrive/constant/models/research/object_detection/model_main_tf2.py'} \\\n",
        "   --model_dir={MAIN_DIR + CUSTOM_MODEL_NAME} \\\n",
        "   --pipeline_config_path={CUSTOM_PIPELINE} \\\n",
        "   --num_train_steps=8000"
      ],
      "execution_count": null,
      "outputs": []
    },
    {
      "cell_type": "code",
      "metadata": {
        "id": "NIB_M9ezgqfc"
      },
      "source": [
        "!pip install -U tb-nightly"
      ],
      "execution_count": null,
      "outputs": []
    },
    {
      "cell_type": "code",
      "metadata": {
        "id": "sX6ZA3-flge_"
      },
      "source": [
        "\n",
        "!python /content/drive/MyDrive/constant/models/research/object_detection/model_main_tf2.py \\\n",
        "  --model_dir=/content/drive/MyDrive/Sign_language_final/SSD_Mobilenet_V2_640x640/ssd_mobilenet_v2 \\\n",
        "  --pipeline_config_path=/content/drive/MyDrive/Sign_language_final/SSD_Mobilenet_V2_640x640/ssd_mobilenet_v2/pipeline.config \\\n",
        "  --checkpoint_dir=/content/drive/MyDrive/Sign_language_final/SSD_Mobilenet_V2_640x640/ssd_mobilenet_v2"
      ],
      "execution_count": null,
      "outputs": []
    },
    {
      "cell_type": "code",
      "metadata": {
        "id": "I7pvbw-6DotC"
      },
      "source": [
        "!python /content/drive/MyDrive/Sign_language_final/SSD_Mobilenet_V2_640x640/models/research/object_detection/exporter_main_v2.py \\\n",
        "    --pipeline_config_path=/content/drive/MyDrive/Sign_language_final/SSD_Mobilenet_V2_640x640/ssd_mobilenet_v2/pipeline.config \\\n",
        "    --output_directory=/content/drive/MyDrive/Sign_language_final/SSD_Mobilenet_V2_640x640/inference_model/ \\\n",
        "    --trained_checkpoint_dir=/content/drive/MyDrive/Sign_language_final/SSD_Mobilenet_V2_640x640/ssd_mobilenet_v2"
      ],
      "execution_count": null,
      "outputs": []
    },
    {
      "cell_type": "code",
      "metadata": {
        "id": "rXdd9uA2G9wq"
      },
      "source": [
        "\n",
        "#load the model\n",
        "import tensorflow as tf\n",
        "detection_model = tf.saved_model.load('/content/drive/MyDrive/Sign_language_final/SSD_Mobilenet_V2_640x640/inference_model/saved_model')"
      ],
      "execution_count": null,
      "outputs": []
    },
    {
      "cell_type": "code",
      "metadata": {
        "colab": {
          "base_uri": "https://localhost:8080/"
        },
        "id": "vTX1Z24jHuB9",
        "outputId": "229942b1-564a-44b5-b3f4-50940c1bb04a"
      },
      "source": [
        "print(detection_model.signatures['serving_default'].inputs)"
      ],
      "execution_count": null,
      "outputs": [
        {
          "output_type": "stream",
          "text": [
            "[<tf.Tensor 'input_tensor:0' shape=(1, None, None, 3) dtype=uint8>, <tf.Tensor 'unknown:0' shape=<unknown> dtype=resource>, <tf.Tensor 'unknown_0:0' shape=<unknown> dtype=resource>, <tf.Tensor 'unknown_1:0' shape=<unknown> dtype=resource>, <tf.Tensor 'unknown_2:0' shape=<unknown> dtype=resource>, <tf.Tensor 'unknown_3:0' shape=<unknown> dtype=resource>, <tf.Tensor 'unknown_4:0' shape=<unknown> dtype=resource>, <tf.Tensor 'unknown_5:0' shape=<unknown> dtype=resource>, <tf.Tensor 'unknown_6:0' shape=<unknown> dtype=resource>, <tf.Tensor 'unknown_7:0' shape=<unknown> dtype=resource>, <tf.Tensor 'unknown_8:0' shape=<unknown> dtype=resource>, <tf.Tensor 'unknown_9:0' shape=<unknown> dtype=resource>, <tf.Tensor 'unknown_10:0' shape=<unknown> dtype=resource>, <tf.Tensor 'unknown_11:0' shape=<unknown> dtype=resource>, <tf.Tensor 'unknown_12:0' shape=<unknown> dtype=resource>, <tf.Tensor 'unknown_13:0' shape=<unknown> dtype=resource>, <tf.Tensor 'unknown_14:0' shape=<unknown> dtype=resource>, <tf.Tensor 'unknown_15:0' shape=<unknown> dtype=resource>, <tf.Tensor 'unknown_16:0' shape=<unknown> dtype=resource>, <tf.Tensor 'unknown_17:0' shape=<unknown> dtype=resource>, <tf.Tensor 'unknown_18:0' shape=<unknown> dtype=resource>, <tf.Tensor 'unknown_19:0' shape=<unknown> dtype=resource>, <tf.Tensor 'unknown_20:0' shape=<unknown> dtype=resource>, <tf.Tensor 'unknown_21:0' shape=<unknown> dtype=resource>, <tf.Tensor 'unknown_22:0' shape=<unknown> dtype=resource>, <tf.Tensor 'unknown_23:0' shape=<unknown> dtype=resource>, <tf.Tensor 'unknown_24:0' shape=<unknown> dtype=resource>, <tf.Tensor 'unknown_25:0' shape=<unknown> dtype=resource>, <tf.Tensor 'unknown_26:0' shape=<unknown> dtype=resource>, <tf.Tensor 'unknown_27:0' shape=<unknown> dtype=resource>, <tf.Tensor 'unknown_28:0' shape=<unknown> dtype=resource>, <tf.Tensor 'unknown_29:0' shape=<unknown> dtype=resource>, <tf.Tensor 'unknown_30:0' shape=<unknown> dtype=resource>, <tf.Tensor 'unknown_31:0' shape=<unknown> dtype=resource>, <tf.Tensor 'unknown_32:0' shape=<unknown> dtype=resource>, <tf.Tensor 'unknown_33:0' shape=<unknown> dtype=resource>, <tf.Tensor 'unknown_34:0' shape=<unknown> dtype=resource>, <tf.Tensor 'unknown_35:0' shape=<unknown> dtype=resource>, <tf.Tensor 'unknown_36:0' shape=<unknown> dtype=resource>, <tf.Tensor 'unknown_37:0' shape=<unknown> dtype=resource>, <tf.Tensor 'unknown_38:0' shape=<unknown> dtype=resource>, <tf.Tensor 'unknown_39:0' shape=<unknown> dtype=resource>, <tf.Tensor 'unknown_40:0' shape=<unknown> dtype=resource>, <tf.Tensor 'unknown_41:0' shape=<unknown> dtype=resource>, <tf.Tensor 'unknown_42:0' shape=<unknown> dtype=resource>, <tf.Tensor 'unknown_43:0' shape=<unknown> dtype=resource>, <tf.Tensor 'unknown_44:0' shape=<unknown> dtype=resource>, <tf.Tensor 'unknown_45:0' shape=<unknown> dtype=resource>, <tf.Tensor 'unknown_46:0' shape=<unknown> dtype=resource>, <tf.Tensor 'unknown_47:0' shape=<unknown> dtype=resource>, <tf.Tensor 'unknown_48:0' shape=<unknown> dtype=resource>, <tf.Tensor 'unknown_49:0' shape=<unknown> dtype=resource>, <tf.Tensor 'unknown_50:0' shape=<unknown> dtype=resource>, <tf.Tensor 'unknown_51:0' shape=<unknown> dtype=resource>, <tf.Tensor 'unknown_52:0' shape=<unknown> dtype=resource>, <tf.Tensor 'unknown_53:0' shape=<unknown> dtype=resource>, <tf.Tensor 'unknown_54:0' shape=<unknown> dtype=resource>, <tf.Tensor 'unknown_55:0' shape=<unknown> dtype=resource>, <tf.Tensor 'unknown_56:0' shape=<unknown> dtype=resource>, <tf.Tensor 'unknown_57:0' shape=<unknown> dtype=resource>, <tf.Tensor 'unknown_58:0' shape=<unknown> dtype=resource>, <tf.Tensor 'unknown_59:0' shape=<unknown> dtype=resource>, <tf.Tensor 'unknown_60:0' shape=<unknown> dtype=resource>, <tf.Tensor 'unknown_61:0' shape=<unknown> dtype=resource>, <tf.Tensor 'unknown_62:0' shape=<unknown> dtype=resource>, <tf.Tensor 'unknown_63:0' shape=<unknown> dtype=resource>, <tf.Tensor 'unknown_64:0' shape=<unknown> dtype=resource>, <tf.Tensor 'unknown_65:0' shape=<unknown> dtype=resource>, <tf.Tensor 'unknown_66:0' shape=<unknown> dtype=resource>, <tf.Tensor 'unknown_67:0' shape=<unknown> dtype=resource>, <tf.Tensor 'unknown_68:0' shape=<unknown> dtype=resource>, <tf.Tensor 'unknown_69:0' shape=<unknown> dtype=resource>, <tf.Tensor 'unknown_70:0' shape=<unknown> dtype=resource>, <tf.Tensor 'unknown_71:0' shape=<unknown> dtype=resource>, <tf.Tensor 'unknown_72:0' shape=<unknown> dtype=resource>, <tf.Tensor 'unknown_73:0' shape=<unknown> dtype=resource>, <tf.Tensor 'unknown_74:0' shape=<unknown> dtype=resource>, <tf.Tensor 'unknown_75:0' shape=<unknown> dtype=resource>, <tf.Tensor 'unknown_76:0' shape=<unknown> dtype=resource>, <tf.Tensor 'unknown_77:0' shape=<unknown> dtype=resource>, <tf.Tensor 'unknown_78:0' shape=<unknown> dtype=resource>, <tf.Tensor 'unknown_79:0' shape=<unknown> dtype=resource>, <tf.Tensor 'unknown_80:0' shape=<unknown> dtype=resource>, <tf.Tensor 'unknown_81:0' shape=<unknown> dtype=resource>, <tf.Tensor 'unknown_82:0' shape=<unknown> dtype=resource>, <tf.Tensor 'unknown_83:0' shape=<unknown> dtype=resource>, <tf.Tensor 'unknown_84:0' shape=<unknown> dtype=resource>, <tf.Tensor 'unknown_85:0' shape=<unknown> dtype=resource>, <tf.Tensor 'unknown_86:0' shape=<unknown> dtype=resource>, <tf.Tensor 'unknown_87:0' shape=<unknown> dtype=resource>, <tf.Tensor 'unknown_88:0' shape=<unknown> dtype=resource>, <tf.Tensor 'unknown_89:0' shape=<unknown> dtype=resource>, <tf.Tensor 'unknown_90:0' shape=<unknown> dtype=resource>, <tf.Tensor 'unknown_91:0' shape=<unknown> dtype=resource>, <tf.Tensor 'unknown_92:0' shape=<unknown> dtype=resource>, <tf.Tensor 'unknown_93:0' shape=<unknown> dtype=resource>, <tf.Tensor 'unknown_94:0' shape=<unknown> dtype=resource>, <tf.Tensor 'unknown_95:0' shape=<unknown> dtype=resource>, <tf.Tensor 'unknown_96:0' shape=<unknown> dtype=resource>, <tf.Tensor 'unknown_97:0' shape=<unknown> dtype=resource>, <tf.Tensor 'unknown_98:0' shape=<unknown> dtype=resource>, <tf.Tensor 'unknown_99:0' shape=<unknown> dtype=resource>, <tf.Tensor 'unknown_100:0' shape=<unknown> dtype=resource>, <tf.Tensor 'unknown_101:0' shape=<unknown> dtype=resource>, <tf.Tensor 'unknown_102:0' shape=<unknown> dtype=resource>, <tf.Tensor 'unknown_103:0' shape=<unknown> dtype=resource>, <tf.Tensor 'unknown_104:0' shape=<unknown> dtype=resource>, <tf.Tensor 'unknown_105:0' shape=<unknown> dtype=resource>, <tf.Tensor 'unknown_106:0' shape=<unknown> dtype=resource>, <tf.Tensor 'unknown_107:0' shape=<unknown> dtype=resource>, <tf.Tensor 'unknown_108:0' shape=<unknown> dtype=resource>, <tf.Tensor 'unknown_109:0' shape=<unknown> dtype=resource>, <tf.Tensor 'unknown_110:0' shape=<unknown> dtype=resource>, <tf.Tensor 'unknown_111:0' shape=<unknown> dtype=resource>, <tf.Tensor 'unknown_112:0' shape=<unknown> dtype=resource>, <tf.Tensor 'unknown_113:0' shape=<unknown> dtype=resource>, <tf.Tensor 'unknown_114:0' shape=<unknown> dtype=resource>, <tf.Tensor 'unknown_115:0' shape=<unknown> dtype=resource>, <tf.Tensor 'unknown_116:0' shape=<unknown> dtype=resource>, <tf.Tensor 'unknown_117:0' shape=<unknown> dtype=resource>, <tf.Tensor 'unknown_118:0' shape=<unknown> dtype=resource>, <tf.Tensor 'unknown_119:0' shape=<unknown> dtype=resource>, <tf.Tensor 'unknown_120:0' shape=<unknown> dtype=resource>, <tf.Tensor 'unknown_121:0' shape=<unknown> dtype=resource>, <tf.Tensor 'unknown_122:0' shape=<unknown> dtype=resource>, <tf.Tensor 'unknown_123:0' shape=<unknown> dtype=resource>, <tf.Tensor 'unknown_124:0' shape=<unknown> dtype=resource>, <tf.Tensor 'unknown_125:0' shape=<unknown> dtype=resource>, <tf.Tensor 'unknown_126:0' shape=<unknown> dtype=resource>, <tf.Tensor 'unknown_127:0' shape=<unknown> dtype=resource>, <tf.Tensor 'unknown_128:0' shape=<unknown> dtype=resource>, <tf.Tensor 'unknown_129:0' shape=<unknown> dtype=resource>, <tf.Tensor 'unknown_130:0' shape=<unknown> dtype=resource>, <tf.Tensor 'unknown_131:0' shape=<unknown> dtype=resource>, <tf.Tensor 'unknown_132:0' shape=<unknown> dtype=resource>, <tf.Tensor 'unknown_133:0' shape=<unknown> dtype=resource>, <tf.Tensor 'unknown_134:0' shape=<unknown> dtype=resource>, <tf.Tensor 'unknown_135:0' shape=<unknown> dtype=resource>, <tf.Tensor 'unknown_136:0' shape=<unknown> dtype=resource>, <tf.Tensor 'unknown_137:0' shape=<unknown> dtype=resource>, <tf.Tensor 'unknown_138:0' shape=<unknown> dtype=resource>, <tf.Tensor 'unknown_139:0' shape=<unknown> dtype=resource>, <tf.Tensor 'unknown_140:0' shape=<unknown> dtype=resource>, <tf.Tensor 'unknown_141:0' shape=<unknown> dtype=resource>, <tf.Tensor 'unknown_142:0' shape=<unknown> dtype=resource>, <tf.Tensor 'unknown_143:0' shape=<unknown> dtype=resource>, <tf.Tensor 'unknown_144:0' shape=<unknown> dtype=resource>, <tf.Tensor 'unknown_145:0' shape=<unknown> dtype=resource>, <tf.Tensor 'unknown_146:0' shape=<unknown> dtype=resource>, <tf.Tensor 'unknown_147:0' shape=<unknown> dtype=resource>, <tf.Tensor 'unknown_148:0' shape=<unknown> dtype=resource>, <tf.Tensor 'unknown_149:0' shape=<unknown> dtype=resource>, <tf.Tensor 'unknown_150:0' shape=<unknown> dtype=resource>, <tf.Tensor 'unknown_151:0' shape=<unknown> dtype=resource>, <tf.Tensor 'unknown_152:0' shape=<unknown> dtype=resource>, <tf.Tensor 'unknown_153:0' shape=<unknown> dtype=resource>, <tf.Tensor 'unknown_154:0' shape=<unknown> dtype=resource>, <tf.Tensor 'unknown_155:0' shape=<unknown> dtype=resource>, <tf.Tensor 'unknown_156:0' shape=<unknown> dtype=resource>, <tf.Tensor 'unknown_157:0' shape=<unknown> dtype=resource>, <tf.Tensor 'unknown_158:0' shape=<unknown> dtype=resource>, <tf.Tensor 'unknown_159:0' shape=<unknown> dtype=resource>, <tf.Tensor 'unknown_160:0' shape=<unknown> dtype=resource>, <tf.Tensor 'unknown_161:0' shape=<unknown> dtype=resource>, <tf.Tensor 'unknown_162:0' shape=<unknown> dtype=resource>, <tf.Tensor 'unknown_163:0' shape=<unknown> dtype=resource>, <tf.Tensor 'unknown_164:0' shape=<unknown> dtype=resource>, <tf.Tensor 'unknown_165:0' shape=<unknown> dtype=resource>, <tf.Tensor 'unknown_166:0' shape=<unknown> dtype=resource>, <tf.Tensor 'unknown_167:0' shape=<unknown> dtype=resource>, <tf.Tensor 'unknown_168:0' shape=<unknown> dtype=resource>, <tf.Tensor 'unknown_169:0' shape=<unknown> dtype=resource>, <tf.Tensor 'unknown_170:0' shape=<unknown> dtype=resource>, <tf.Tensor 'unknown_171:0' shape=<unknown> dtype=resource>, <tf.Tensor 'unknown_172:0' shape=<unknown> dtype=resource>, <tf.Tensor 'unknown_173:0' shape=<unknown> dtype=resource>, <tf.Tensor 'unknown_174:0' shape=<unknown> dtype=resource>, <tf.Tensor 'unknown_175:0' shape=<unknown> dtype=resource>, <tf.Tensor 'unknown_176:0' shape=<unknown> dtype=resource>, <tf.Tensor 'unknown_177:0' shape=<unknown> dtype=resource>, <tf.Tensor 'unknown_178:0' shape=<unknown> dtype=resource>, <tf.Tensor 'unknown_179:0' shape=<unknown> dtype=resource>, <tf.Tensor 'unknown_180:0' shape=<unknown> dtype=resource>, <tf.Tensor 'unknown_181:0' shape=<unknown> dtype=resource>, <tf.Tensor 'unknown_182:0' shape=<unknown> dtype=resource>, <tf.Tensor 'unknown_183:0' shape=<unknown> dtype=resource>, <tf.Tensor 'unknown_184:0' shape=<unknown> dtype=resource>, <tf.Tensor 'unknown_185:0' shape=<unknown> dtype=resource>, <tf.Tensor 'unknown_186:0' shape=<unknown> dtype=resource>, <tf.Tensor 'unknown_187:0' shape=<unknown> dtype=resource>, <tf.Tensor 'unknown_188:0' shape=<unknown> dtype=resource>, <tf.Tensor 'unknown_189:0' shape=<unknown> dtype=resource>, <tf.Tensor 'unknown_190:0' shape=<unknown> dtype=resource>, <tf.Tensor 'unknown_191:0' shape=<unknown> dtype=resource>, <tf.Tensor 'unknown_192:0' shape=<unknown> dtype=resource>, <tf.Tensor 'unknown_193:0' shape=<unknown> dtype=resource>, <tf.Tensor 'unknown_194:0' shape=<unknown> dtype=resource>, <tf.Tensor 'unknown_195:0' shape=<unknown> dtype=resource>, <tf.Tensor 'unknown_196:0' shape=<unknown> dtype=resource>, <tf.Tensor 'unknown_197:0' shape=<unknown> dtype=resource>, <tf.Tensor 'unknown_198:0' shape=<unknown> dtype=resource>, <tf.Tensor 'unknown_199:0' shape=<unknown> dtype=resource>, <tf.Tensor 'unknown_200:0' shape=<unknown> dtype=resource>, <tf.Tensor 'unknown_201:0' shape=<unknown> dtype=resource>, <tf.Tensor 'unknown_202:0' shape=<unknown> dtype=resource>, <tf.Tensor 'unknown_203:0' shape=<unknown> dtype=resource>, <tf.Tensor 'unknown_204:0' shape=<unknown> dtype=resource>, <tf.Tensor 'unknown_205:0' shape=<unknown> dtype=resource>, <tf.Tensor 'unknown_206:0' shape=<unknown> dtype=resource>, <tf.Tensor 'unknown_207:0' shape=<unknown> dtype=resource>, <tf.Tensor 'unknown_208:0' shape=<unknown> dtype=resource>, <tf.Tensor 'unknown_209:0' shape=<unknown> dtype=resource>, <tf.Tensor 'unknown_210:0' shape=<unknown> dtype=resource>, <tf.Tensor 'unknown_211:0' shape=<unknown> dtype=resource>, <tf.Tensor 'unknown_212:0' shape=<unknown> dtype=resource>, <tf.Tensor 'unknown_213:0' shape=<unknown> dtype=resource>, <tf.Tensor 'unknown_214:0' shape=<unknown> dtype=resource>, <tf.Tensor 'unknown_215:0' shape=<unknown> dtype=resource>, <tf.Tensor 'unknown_216:0' shape=<unknown> dtype=resource>, <tf.Tensor 'unknown_217:0' shape=<unknown> dtype=resource>, <tf.Tensor 'unknown_218:0' shape=<unknown> dtype=resource>, <tf.Tensor 'unknown_219:0' shape=<unknown> dtype=resource>, <tf.Tensor 'unknown_220:0' shape=<unknown> dtype=resource>, <tf.Tensor 'unknown_221:0' shape=<unknown> dtype=resource>, <tf.Tensor 'unknown_222:0' shape=<unknown> dtype=resource>, <tf.Tensor 'unknown_223:0' shape=<unknown> dtype=resource>, <tf.Tensor 'unknown_224:0' shape=<unknown> dtype=resource>, <tf.Tensor 'unknown_225:0' shape=<unknown> dtype=resource>, <tf.Tensor 'unknown_226:0' shape=<unknown> dtype=resource>, <tf.Tensor 'unknown_227:0' shape=<unknown> dtype=resource>, <tf.Tensor 'unknown_228:0' shape=<unknown> dtype=resource>, <tf.Tensor 'unknown_229:0' shape=<unknown> dtype=resource>, <tf.Tensor 'unknown_230:0' shape=<unknown> dtype=resource>, <tf.Tensor 'unknown_231:0' shape=<unknown> dtype=resource>, <tf.Tensor 'unknown_232:0' shape=<unknown> dtype=resource>, <tf.Tensor 'unknown_233:0' shape=<unknown> dtype=resource>, <tf.Tensor 'unknown_234:0' shape=<unknown> dtype=resource>, <tf.Tensor 'unknown_235:0' shape=<unknown> dtype=resource>, <tf.Tensor 'unknown_236:0' shape=<unknown> dtype=resource>, <tf.Tensor 'unknown_237:0' shape=<unknown> dtype=resource>, <tf.Tensor 'unknown_238:0' shape=<unknown> dtype=resource>, <tf.Tensor 'unknown_239:0' shape=<unknown> dtype=resource>, <tf.Tensor 'unknown_240:0' shape=<unknown> dtype=resource>, <tf.Tensor 'unknown_241:0' shape=<unknown> dtype=resource>, <tf.Tensor 'unknown_242:0' shape=<unknown> dtype=resource>, <tf.Tensor 'unknown_243:0' shape=<unknown> dtype=resource>, <tf.Tensor 'unknown_244:0' shape=<unknown> dtype=resource>, <tf.Tensor 'unknown_245:0' shape=<unknown> dtype=resource>, <tf.Tensor 'unknown_246:0' shape=<unknown> dtype=resource>, <tf.Tensor 'unknown_247:0' shape=<unknown> dtype=resource>, <tf.Tensor 'unknown_248:0' shape=<unknown> dtype=resource>, <tf.Tensor 'unknown_249:0' shape=<unknown> dtype=resource>, <tf.Tensor 'unknown_250:0' shape=<unknown> dtype=resource>, <tf.Tensor 'unknown_251:0' shape=<unknown> dtype=resource>, <tf.Tensor 'unknown_252:0' shape=<unknown> dtype=resource>, <tf.Tensor 'unknown_253:0' shape=<unknown> dtype=resource>, <tf.Tensor 'unknown_254:0' shape=<unknown> dtype=resource>, <tf.Tensor 'unknown_255:0' shape=<unknown> dtype=resource>, <tf.Tensor 'unknown_256:0' shape=<unknown> dtype=resource>, <tf.Tensor 'unknown_257:0' shape=<unknown> dtype=resource>, <tf.Tensor 'unknown_258:0' shape=<unknown> dtype=resource>, <tf.Tensor 'unknown_259:0' shape=<unknown> dtype=resource>, <tf.Tensor 'unknown_260:0' shape=<unknown> dtype=resource>, <tf.Tensor 'unknown_261:0' shape=<unknown> dtype=resource>, <tf.Tensor 'unknown_262:0' shape=<unknown> dtype=resource>, <tf.Tensor 'unknown_263:0' shape=<unknown> dtype=resource>, <tf.Tensor 'unknown_264:0' shape=<unknown> dtype=resource>, <tf.Tensor 'unknown_265:0' shape=<unknown> dtype=resource>, <tf.Tensor 'unknown_266:0' shape=<unknown> dtype=resource>, <tf.Tensor 'unknown_267:0' shape=<unknown> dtype=resource>, <tf.Tensor 'unknown_268:0' shape=<unknown> dtype=resource>, <tf.Tensor 'unknown_269:0' shape=<unknown> dtype=resource>, <tf.Tensor 'unknown_270:0' shape=<unknown> dtype=resource>, <tf.Tensor 'unknown_271:0' shape=<unknown> dtype=resource>, <tf.Tensor 'unknown_272:0' shape=<unknown> dtype=resource>, <tf.Tensor 'unknown_273:0' shape=<unknown> dtype=resource>, <tf.Tensor 'unknown_274:0' shape=<unknown> dtype=resource>, <tf.Tensor 'unknown_275:0' shape=<unknown> dtype=resource>, <tf.Tensor 'unknown_276:0' shape=<unknown> dtype=resource>, <tf.Tensor 'unknown_277:0' shape=<unknown> dtype=resource>, <tf.Tensor 'unknown_278:0' shape=<unknown> dtype=resource>, <tf.Tensor 'unknown_279:0' shape=<unknown> dtype=resource>, <tf.Tensor 'unknown_280:0' shape=<unknown> dtype=resource>, <tf.Tensor 'unknown_281:0' shape=<unknown> dtype=resource>, <tf.Tensor 'unknown_282:0' shape=<unknown> dtype=resource>, <tf.Tensor 'unknown_283:0' shape=<unknown> dtype=resource>, <tf.Tensor 'unknown_284:0' shape=<unknown> dtype=resource>, <tf.Tensor 'unknown_285:0' shape=<unknown> dtype=resource>, <tf.Tensor 'unknown_286:0' shape=<unknown> dtype=resource>, <tf.Tensor 'unknown_287:0' shape=<unknown> dtype=resource>, <tf.Tensor 'unknown_288:0' shape=<unknown> dtype=resource>, <tf.Tensor 'unknown_289:0' shape=(2,) dtype=float32>, <tf.Tensor 'unknown_290:0' shape=(2,) dtype=float32>, <tf.Tensor 'unknown_291:0' shape=(2,) dtype=float32>, <tf.Tensor 'unknown_292:0' shape=(2,) dtype=float32>, <tf.Tensor 'unknown_293:0' shape=(2,) dtype=float32>, <tf.Tensor 'unknown_294:0' shape=(2,) dtype=float32>, <tf.Tensor 'unknown_295:0' shape=(2,) dtype=float32>, <tf.Tensor 'unknown_296:0' shape=(2,) dtype=float32>, <tf.Tensor 'unknown_297:0' shape=(2,) dtype=float32>, <tf.Tensor 'unknown_298:0' shape=(2,) dtype=float32>, <tf.Tensor 'unknown_299:0' shape=(2,) dtype=float32>, <tf.Tensor 'unknown_300:0' shape=(2,) dtype=float32>, <tf.Tensor 'unknown_301:0' shape=(2,) dtype=float32>, <tf.Tensor 'unknown_302:0' shape=(2,) dtype=float32>, <tf.Tensor 'unknown_303:0' shape=(2,) dtype=float32>, <tf.Tensor 'unknown_304:0' shape=<unknown> dtype=resource>, <tf.Tensor 'unknown_305:0' shape=<unknown> dtype=resource>, <tf.Tensor 'unknown_306:0' shape=<unknown> dtype=resource>, <tf.Tensor 'unknown_307:0' shape=<unknown> dtype=resource>, <tf.Tensor 'unknown_308:0' shape=<unknown> dtype=resource>, <tf.Tensor 'unknown_309:0' shape=<unknown> dtype=resource>, <tf.Tensor 'unknown_310:0' shape=<unknown> dtype=resource>, <tf.Tensor 'unknown_311:0' shape=<unknown> dtype=resource>, <tf.Tensor 'unknown_312:0' shape=<unknown> dtype=resource>, <tf.Tensor 'unknown_313:0' shape=<unknown> dtype=resource>, <tf.Tensor 'unknown_314:0' shape=<unknown> dtype=resource>, <tf.Tensor 'unknown_315:0' shape=<unknown> dtype=resource>, <tf.Tensor 'unknown_316:0' shape=<unknown> dtype=resource>, <tf.Tensor 'unknown_317:0' shape=<unknown> dtype=resource>, <tf.Tensor 'unknown_318:0' shape=<unknown> dtype=resource>, <tf.Tensor 'unknown_319:0' shape=<unknown> dtype=resource>, <tf.Tensor 'unknown_320:0' shape=<unknown> dtype=resource>, <tf.Tensor 'unknown_321:0' shape=<unknown> dtype=resource>, <tf.Tensor 'unknown_322:0' shape=<unknown> dtype=resource>, <tf.Tensor 'unknown_323:0' shape=<unknown> dtype=resource>, <tf.Tensor 'unknown_324:0' shape=<unknown> dtype=resource>, <tf.Tensor 'unknown_325:0' shape=<unknown> dtype=resource>, <tf.Tensor 'unknown_326:0' shape=<unknown> dtype=resource>, <tf.Tensor 'unknown_327:0' shape=<unknown> dtype=resource>, <tf.Tensor 'unknown_328:0' shape=<unknown> dtype=resource>, <tf.Tensor 'unknown_329:0' shape=<unknown> dtype=resource>, <tf.Tensor 'unknown_330:0' shape=<unknown> dtype=resource>, <tf.Tensor 'unknown_331:0' shape=<unknown> dtype=resource>, <tf.Tensor 'unknown_332:0' shape=<unknown> dtype=resource>, <tf.Tensor 'unknown_333:0' shape=<unknown> dtype=resource>, <tf.Tensor 'unknown_334:0' shape=<unknown> dtype=resource>, <tf.Tensor 'unknown_335:0' shape=<unknown> dtype=resource>, <tf.Tensor 'unknown_336:0' shape=<unknown> dtype=resource>, <tf.Tensor 'unknown_337:0' shape=<unknown> dtype=resource>, <tf.Tensor 'unknown_338:0' shape=<unknown> dtype=resource>, <tf.Tensor 'unknown_339:0' shape=<unknown> dtype=resource>, <tf.Tensor 'unknown_340:0' shape=<unknown> dtype=resource>, <tf.Tensor 'unknown_341:0' shape=<unknown> dtype=resource>, <tf.Tensor 'unknown_342:0' shape=<unknown> dtype=resource>, <tf.Tensor 'unknown_343:0' shape=<unknown> dtype=resource>, <tf.Tensor 'unknown_344:0' shape=<unknown> dtype=resource>, <tf.Tensor 'unknown_345:0' shape=<unknown> dtype=resource>, <tf.Tensor 'unknown_346:0' shape=<unknown> dtype=resource>, <tf.Tensor 'unknown_347:0' shape=<unknown> dtype=resource>, <tf.Tensor 'unknown_348:0' shape=<unknown> dtype=resource>, <tf.Tensor 'unknown_349:0' shape=<unknown> dtype=resource>, <tf.Tensor 'unknown_350:0' shape=<unknown> dtype=resource>, <tf.Tensor 'unknown_351:0' shape=<unknown> dtype=resource>, <tf.Tensor 'unknown_352:0' shape=<unknown> dtype=resource>, <tf.Tensor 'unknown_353:0' shape=<unknown> dtype=resource>, <tf.Tensor 'unknown_354:0' shape=<unknown> dtype=resource>, <tf.Tensor 'unknown_355:0' shape=<unknown> dtype=resource>, <tf.Tensor 'unknown_356:0' shape=<unknown> dtype=resource>, <tf.Tensor 'unknown_357:0' shape=<unknown> dtype=resource>, <tf.Tensor 'unknown_358:0' shape=<unknown> dtype=resource>, <tf.Tensor 'unknown_359:0' shape=<unknown> dtype=resource>, <tf.Tensor 'unknown_360:0' shape=<unknown> dtype=resource>, <tf.Tensor 'unknown_361:0' shape=<unknown> dtype=resource>, <tf.Tensor 'unknown_362:0' shape=<unknown> dtype=resource>, <tf.Tensor 'unknown_363:0' shape=<unknown> dtype=resource>, <tf.Tensor 'unknown_364:0' shape=<unknown> dtype=resource>, <tf.Tensor 'unknown_365:0' shape=<unknown> dtype=resource>, <tf.Tensor 'unknown_366:0' shape=<unknown> dtype=resource>, <tf.Tensor 'unknown_367:0' shape=<unknown> dtype=resource>, <tf.Tensor 'unknown_368:0' shape=<unknown> dtype=resource>, <tf.Tensor 'unknown_369:0' shape=<unknown> dtype=resource>, <tf.Tensor 'unknown_370:0' shape=<unknown> dtype=resource>, <tf.Tensor 'unknown_371:0' shape=<unknown> dtype=resource>, <tf.Tensor 'unknown_372:0' shape=<unknown> dtype=resource>, <tf.Tensor 'unknown_373:0' shape=<unknown> dtype=resource>, <tf.Tensor 'unknown_374:0' shape=<unknown> dtype=resource>, <tf.Tensor 'unknown_375:0' shape=<unknown> dtype=resource>, <tf.Tensor 'unknown_376:0' shape=<unknown> dtype=resource>, <tf.Tensor 'unknown_377:0' shape=<unknown> dtype=resource>, <tf.Tensor 'unknown_378:0' shape=<unknown> dtype=resource>, <tf.Tensor 'unknown_379:0' shape=<unknown> dtype=resource>, <tf.Tensor 'unknown_380:0' shape=<unknown> dtype=resource>, <tf.Tensor 'unknown_381:0' shape=<unknown> dtype=resource>, <tf.Tensor 'unknown_382:0' shape=<unknown> dtype=resource>, <tf.Tensor 'unknown_383:0' shape=<unknown> dtype=resource>, <tf.Tensor 'unknown_384:0' shape=<unknown> dtype=resource>, <tf.Tensor 'unknown_385:0' shape=<unknown> dtype=resource>, <tf.Tensor 'unknown_386:0' shape=<unknown> dtype=resource>, <tf.Tensor 'unknown_387:0' shape=<unknown> dtype=resource>, <tf.Tensor 'unknown_388:0' shape=<unknown> dtype=resource>, <tf.Tensor 'unknown_389:0' shape=<unknown> dtype=resource>, <tf.Tensor 'unknown_390:0' shape=<unknown> dtype=resource>, <tf.Tensor 'unknown_391:0' shape=<unknown> dtype=resource>, <tf.Tensor 'unknown_392:0' shape=<unknown> dtype=resource>, <tf.Tensor 'unknown_393:0' shape=<unknown> dtype=resource>, <tf.Tensor 'unknown_394:0' shape=<unknown> dtype=resource>, <tf.Tensor 'unknown_395:0' shape=<unknown> dtype=resource>, <tf.Tensor 'unknown_396:0' shape=<unknown> dtype=resource>, <tf.Tensor 'unknown_397:0' shape=<unknown> dtype=resource>]\n"
          ],
          "name": "stdout"
        }
      ]
    },
    {
      "cell_type": "code",
      "metadata": {
        "id": "xA_-YXlDH56b"
      },
      "source": [
        "import os\n",
        "from object_detection.utils import label_map_util\n",
        "from object_detection.utils import visualization_utils as viz_utils\n",
        "from object_detection.builders import model_builder"
      ],
      "execution_count": null,
      "outputs": []
    },
    {
      "cell_type": "code",
      "metadata": {
        "id": "pBDKBDMNH-Jr"
      },
      "source": [
        "@tf.function\n",
        "def detect_fn(image):\n",
        "    model = detection_model.signatures['serving_default']\n",
        "    detections = model(image)\n",
        "    return detections"
      ],
      "execution_count": null,
      "outputs": []
    },
    {
      "cell_type": "code",
      "metadata": {
        "id": "ze95oI02H_4P"
      },
      "source": [
        "import cv2 \n",
        "import numpy as np\n",
        "from google.colab.patches import cv2_imshow"
      ],
      "execution_count": null,
      "outputs": []
    },
    {
      "cell_type": "code",
      "metadata": {
        "id": "KoqDgDZrIFg0"
      },
      "source": [
        "category_index = label_map_util.create_category_index_from_labelmap('/content/drive/MyDrive/dataset/test/Letters_label_map.pbtxt')"
      ],
      "execution_count": null,
      "outputs": []
    },
    {
      "cell_type": "code",
      "metadata": {
        "id": "cZhreCBmKZId"
      },
      "source": [
        "alphabet = {\n",
        "        '1' : 'a', \n",
        "        '2' : 'b', \n",
        "        '3' : 'c', \n",
        "        '4' : 'd', \n",
        "        '5' : 'e', \n",
        "        '6' : 'f', \n",
        "        '7' : 'g', \n",
        "        '8' : 'h', \n",
        "        '9' : 'i', \n",
        "        '10' : 'j', \n",
        "        '11' : 'k', \n",
        "        '12' : 'l', \n",
        "        '13' : 'm', \n",
        "        '14' : 'n', \n",
        "        '15' : 'o', \n",
        "        '16' : 'p', \n",
        "        '17' : 'q', \n",
        "        '18' : 'r', \n",
        "        '19' : 's', \n",
        "        '20' : 't', \n",
        "        '21' : 'u', \n",
        "        '22' : 'v', \n",
        "        '23' : 'w', \n",
        "        '24' : 'x', \n",
        "        '25' : 'y', \n",
        "        '26' : 'z'\n",
        "    }"
      ],
      "execution_count": null,
      "outputs": []
    },
    {
      "cell_type": "code",
      "metadata": {
        "id": "-SVKmaiOIOng"
      },
      "source": [
        "img = cv2.imread('/content/B3_jpg.rf.64e0c9ae2fdb09151ec26fa10d8493ba.jpg')\n",
        "img = cv2.cvtColor(img, cv2.COLOR_BGR2RGB)\n",
        "image_np = np.array(img)\n",
        "label_id_offset = 0\n",
        "input_tensor = tf.convert_to_tensor(np.expand_dims(image_np, 0))\n",
        "detections = detect_fn(input_tensor)\n",
        "\n",
        "num_detections = int(detections.pop('num_detections'))\n",
        "detections = {key: value[0, :num_detections].numpy() for key, value in detections.items()}\n",
        "detections['num_detections'] = num_detections\n",
        "# print(detections['num_detections'])\n",
        "\n",
        "# detection_classes should be ints.\n",
        "detections['detection_classes'] = detections['detection_classes'].astype(np.int64)\n",
        "# print(detections['detection_classes']+label_id_offset)\n",
        "# print(detections['detection_scores'])\n",
        "# print(detections['detection_boxes'])\n",
        "\n",
        "\n",
        "image_np_with_detections = image_np.copy()\n",
        "\n",
        "viz_utils.visualize_boxes_and_labels_on_image_array(\n",
        "  image_np_with_detections,\n",
        "  detections['detection_boxes'],\n",
        "  (detections['detection_classes']+label_id_offset).astype(int),\n",
        "  detections['detection_scores'],\n",
        "  category_index,\n",
        "  use_normalized_coordinates=True,\n",
        "  max_boxes_to_draw=1,\n",
        "  min_score_thresh=.2,\n",
        "  line_thickness=8,\n",
        "  agnostic_mode=False\n",
        "  )\n",
        "# classes = detections['detection_classes']+label_id_offset\n",
        "# clas = str(classes[0])\n",
        "# print(alphabet[clas])\n",
        "# mytext = alphabet[clas]\n",
        "# print(mytext)\n",
        "\n",
        "image_np_with_detections= cv2.cvtColor(image_np_with_detections, cv2.COLOR_RGB2BGR)\n",
        "cv2_imshow(cv2.resize(image_np_with_detections, (800, 600)))"
      ],
      "execution_count": null,
      "outputs": []
    },
    {
      "cell_type": "code",
      "metadata": {
        "id": "XJ533_LoLdc7"
      },
      "source": [
        "def predict(img):\n",
        "  img = cv2.imread(img)\n",
        "  img = cv2.cvtColor(img, cv2.COLOR_BGR2RGB)\n",
        "  image_np = np.array(img)\n",
        "  label_id_offset = 0\n",
        "  input_tensor = tf.convert_to_tensor(np.expand_dims(image_np, 0))\n",
        "  detections = detect_fn(input_tensor)\n",
        "\n",
        "  num_detections = int(detections.pop('num_detections'))\n",
        "  detections = {key: value[0, :num_detections].numpy() for key, value in detections.items()}\n",
        "  detections['num_detections'] = num_detections\n",
        "  # print(detections['num_detections'])\n",
        "\n",
        "  # detection_classes should be ints.\n",
        "  detections['detection_classes'] = detections['detection_classes'].astype(np.int64)\n",
        "  # print(detections['detection_classes']+label_id_offset)\n",
        "  # print(detections['detection_scores'])\n",
        "  # print(detections['detection_boxes'])\n",
        "\n",
        "\n",
        "  image_np_with_detections = image_np.copy()\n",
        "\n",
        "  viz_utils.visualize_boxes_and_labels_on_image_array(\n",
        "    image_np_with_detections,\n",
        "    detections['detection_boxes'],\n",
        "    (detections['detection_classes']+label_id_offset).astype(int),\n",
        "    detections['detection_scores'],\n",
        "    category_index,\n",
        "    use_normalized_coordinates=True,\n",
        "    max_boxes_to_draw=1,\n",
        "    min_score_thresh=.2,\n",
        "    line_thickness=8,\n",
        "    agnostic_mode=False\n",
        "    )\n",
        "  # classes = detections['detection_classes']+label_id_offset\n",
        "  # clas = str(classes[0])\n",
        "  # print(alphabet[clas])\n",
        "  # mytext = alphabet[clas]\n",
        "  # print(mytext)\n",
        "\n",
        "  image_np_with_detections= cv2.cvtColor(image_np_with_detections, cv2.COLOR_RGB2BGR)\n",
        "  return cv2_imshow(cv2.resize(image_np_with_detections, (800, 600)))"
      ],
      "execution_count": null,
      "outputs": []
    },
    {
      "cell_type": "code",
      "metadata": {
        "colab": {
          "base_uri": "https://localhost:8080/",
          "height": 617
        },
        "id": "CewC83fgIZH-",
        "outputId": "be395798-5c1f-436f-9177-80be55f18700"
      },
      "source": [
        "img = '/content/Z29_jpg.rf.64a16f3aec369f9abc15186097a1a1a5.jpg'\n",
        "predict(img)"
      ],
      "execution_count": null,
      "outputs": [
        {
          "output_type": "display_data",
          "data": {
            "image/png": "[encoded data removed]",
            "text/plain": [
              "<PIL.Image.Image image mode=RGB size=800x600 at 0x7FA28C6D2ED0>"
            ]
          },
          "metadata": {
            "tags": []
          }
        }
      ]
    },
    {
      "cell_type": "code",
      "metadata": {
        "colab": {
          "base_uri": "https://localhost:8080/"
        },
        "id": "Gx8sBAWQL7YN",
        "outputId": "6e685477-8bd7-424b-dc7b-97f9f46aa12b"
      },
      "source": [
        "!pip freeze requirements.txt"
      ],
      "execution_count": null,
      "outputs": [
        {
          "output_type": "stream",
          "text": [
            "absl-py==0.12.0\n",
            "alabaster==0.7.12\n",
            "albumentations==0.1.12\n",
            "altair==4.1.0\n",
            "apache-beam==2.28.0\n",
            "appdirs==1.4.4\n",
            "argon2-cffi==20.1.0\n",
            "astor==0.8.1\n",
            "astropy==4.2.1\n",
            "astunparse==1.6.3\n",
            "async-generator==1.10\n",
            "atari-py==0.2.6\n",
            "atomicwrites==1.4.0\n",
            "attrs==20.3.0\n",
            "audioread==2.1.9\n",
            "autograd==1.3\n",
            "avro-python3==1.10.2\n",
            "Babel==2.9.0\n",
            "backcall==0.2.0\n",
            "beautifulsoup4==4.6.3\n",
            "bleach==3.3.0\n",
            "blis==0.4.1\n",
            "bokeh==2.3.1\n",
            "Bottleneck==1.3.2\n",
            "branca==0.4.2\n",
            "bs4==0.0.1\n",
            "CacheControl==0.12.6\n",
            "cachetools==4.2.1\n",
            "catalogue==1.0.0\n",
            "certifi==2020.12.5\n",
            "cffi==1.14.5\n",
            "chainer==7.4.0\n",
            "chardet==3.0.4\n",
            "click==7.1.2\n",
            "cloudpickle==1.3.0\n",
            "cmake==3.12.0\n",
            "cmdstanpy==0.9.5\n",
            "colorcet==2.0.6\n",
            "colorlover==0.3.0\n",
            "community==1.0.0b1\n",
            "contextlib2==0.5.5\n",
            "convertdate==2.3.2\n",
            "coverage==3.7.1\n",
            "coveralls==0.5\n",
            "crcmod==1.7\n",
            "cufflinks==0.17.3\n",
            "cupy-cuda101==7.4.0\n",
            "cvxopt==1.2.6\n",
            "cvxpy==1.0.31\n",
            "cycler==0.10.0\n",
            "cymem==2.0.5\n",
            "Cython==0.29.22\n",
            "daft==0.0.4\n",
            "dask==2.12.0\n",
            "dataclasses==0.6\n",
            "datascience==0.10.6\n",
            "debugpy==1.0.0\n",
            "decorator==4.4.2\n",
            "defusedxml==0.7.1\n",
            "descartes==1.1.0\n",
            "dill==0.3.1.1\n",
            "distlib==0.3.1\n",
            "distributed==1.25.3\n",
            "dlib==19.18.0\n",
            "dm-tree==0.1.6\n",
            "docopt==0.6.2\n",
            "docutils==0.17\n",
            "dopamine-rl==1.0.5\n",
            "earthengine-api==0.1.260\n",
            "easydict==1.9\n",
            "ecos==2.0.7.post1\n",
            "editdistance==0.5.3\n",
            "en-core-web-sm==2.2.5\n",
            "entrypoints==0.3\n",
            "ephem==3.7.7.1\n",
            "et-xmlfile==1.0.1\n",
            "fa2==0.3.5\n",
            "fancyimpute==0.4.3\n",
            "fastai==1.0.61\n",
            "fastavro==1.4.0\n",
            "fastdtw==0.3.4\n",
            "fastprogress==1.0.0\n",
            "fastrlock==0.6\n",
            "fbprophet==0.7.1\n",
            "feather-format==0.4.1\n",
            "filelock==3.0.12\n",
            "firebase-admin==4.4.0\n",
            "fix-yahoo-finance==0.0.22\n",
            "Flask==1.1.2\n",
            "flatbuffers==1.12\n",
            "folium==0.8.3\n",
            "future==0.18.2\n",
            "gast==0.3.3\n",
            "GDAL==2.2.2\n",
            "gdown==3.6.4\n",
            "gensim==3.6.0\n",
            "geographiclib==1.50\n",
            "geopy==1.17.0\n",
            "gin-config==0.4.0\n",
            "glob2==0.7\n",
            "google==2.0.3\n",
            "google-api-core==1.26.3\n",
            "google-api-python-client==1.12.8\n",
            "google-auth==1.28.1\n",
            "google-auth-httplib2==0.0.4\n",
            "google-auth-oauthlib==0.4.4\n",
            "google-cloud==0.34.0\n",
            "google-cloud-bigquery==1.21.0\n",
            "google-cloud-bigquery-storage==1.1.0\n",
            "google-cloud-core==1.0.3\n",
            "google-cloud-datastore==1.8.0\n",
            "google-cloud-firestore==1.7.0\n",
            "google-cloud-language==1.2.0\n",
            "google-cloud-storage==1.18.1\n",
            "google-cloud-translate==1.5.0\n",
            "google-colab==1.0.0\n",
            "google-pasta==0.2.0\n",
            "google-resumable-media==0.4.1\n",
            "googleapis-common-protos==1.53.0\n",
            "googledrivedownloader==0.4\n",
            "graphviz==0.10.1\n",
            "greenlet==1.0.0\n",
            "grpcio==1.32.0\n",
            "gspread==3.0.1\n",
            "gspread-dataframe==3.0.8\n",
            "gym==0.17.3\n",
            "h5py==2.10.0\n",
            "hdfs==2.6.0\n",
            "HeapDict==1.0.1\n",
            "hijri-converter==2.1.1\n",
            "holidays==0.10.5.2\n",
            "holoviews==1.14.3\n",
            "html5lib==1.0.1\n",
            "httpimport==0.5.18\n",
            "httplib2==0.17.4\n",
            "httplib2shim==0.0.3\n",
            "humanize==0.5.1\n",
            "hyperopt==0.1.2\n",
            "ideep4py==2.0.0.post3\n",
            "idna==2.10\n",
            "imageio==2.4.1\n",
            "imagesize==1.2.0\n",
            "imbalanced-learn==0.4.3\n",
            "imblearn==0.0\n",
            "imgaug==0.2.9\n",
            "importlib-metadata==3.10.1\n",
            "importlib-resources==5.1.2\n",
            "imutils==0.5.4\n",
            "inflect==2.1.0\n",
            "iniconfig==1.1.1\n",
            "intel-openmp==2021.2.0\n",
            "intervaltree==2.1.0\n",
            "ipykernel==4.10.1\n",
            "ipython==5.5.0\n",
            "ipython-genutils==0.2.0\n",
            "ipython-sql==0.3.9\n",
            "ipywidgets==7.6.3\n",
            "itsdangerous==1.1.0\n",
            "jax==0.2.12\n",
            "jaxlib==0.1.65+cuda110\n",
            "jdcal==1.4.1\n",
            "jedi==0.18.0\n",
            "jieba==0.42.1\n",
            "Jinja2==2.11.3\n",
            "joblib==1.0.1\n",
            "jpeg4py==0.1.4\n",
            "jsonschema==2.6.0\n",
            "jupyter==1.0.0\n",
            "jupyter-client==5.3.5\n",
            "jupyter-console==5.2.0\n",
            "jupyter-core==4.7.1\n",
            "jupyterlab-pygments==0.1.2\n",
            "jupyterlab-widgets==1.0.0\n",
            "kaggle==1.5.12\n",
            "kapre==0.1.3.1\n",
            "Keras==2.4.3\n",
            "Keras-Preprocessing==1.1.2\n",
            "keras-vis==0.4.1\n",
            "kiwisolver==1.3.1\n",
            "knnimpute==0.1.0\n",
            "korean-lunar-calendar==0.2.1\n",
            "librosa==0.8.0\n",
            "lightgbm==2.2.3\n",
            "llvmlite==0.34.0\n",
            "lmdb==0.99\n",
            "LunarCalendar==0.0.9\n",
            "lvis==0.5.3\n",
            "lxml==4.2.6\n",
            "Markdown==3.3.4\n",
            "MarkupSafe==1.1.1\n",
            "matplotlib==3.2.2\n",
            "matplotlib-venn==0.11.6\n",
            "missingno==0.4.2\n",
            "mistune==0.8.4\n",
            "mizani==0.6.0\n",
            "mkl==2019.0\n",
            "mlxtend==0.14.0\n",
            "mock==2.0.0\n",
            "more-itertools==8.7.0\n",
            "moviepy==0.2.3.5\n",
            "mpmath==1.2.1\n",
            "msgpack==1.0.2\n",
            "multiprocess==0.70.11.1\n",
            "multitasking==0.0.9\n",
            "murmurhash==1.0.5\n",
            "music21==5.5.0\n",
            "natsort==5.5.0\n",
            "nbclient==0.5.3\n",
            "nbconvert==5.6.1\n",
            "nbformat==5.1.3\n",
            "nest-asyncio==1.5.1\n",
            "networkx==2.5.1\n",
            "nibabel==3.0.2\n",
            "nltk==3.2.5\n",
            "notebook==5.3.1\n",
            "np-utils==0.5.12.1\n",
            "numba==0.51.2\n",
            "numexpr==2.7.3\n",
            "numpy==1.19.5\n",
            "nvidia-ml-py3==7.352.0\n",
            "oauth2client==4.1.3\n",
            "oauthlib==3.1.0\n",
            "object-detection==0.1\n",
            "okgrade==0.4.3\n",
            "opencv-contrib-python==4.1.2.30\n",
            "opencv-python==4.1.2.30\n",
            "opencv-python-headless==4.5.1.48\n",
            "openpyxl==2.5.9\n",
            "opt-einsum==3.3.0\n",
            "osqp==0.6.2.post0\n",
            "packaging==20.9\n",
            "palettable==3.3.0\n",
            "pandas==1.1.5\n",
            "pandas-datareader==0.9.0\n",
            "pandas-gbq==0.13.3\n",
            "pandas-profiling==1.4.1\n",
            "pandocfilters==1.4.3\n",
            "panel==0.11.2\n",
            "param==1.10.1\n",
            "parso==0.8.2\n",
            "pathlib==1.0.1\n",
            "patsy==0.5.1\n",
            "pbr==5.6.0\n",
            "pexpect==4.8.0\n",
            "pickleshare==0.7.5\n",
            "Pillow==7.1.2\n",
            "pip-tools==4.5.1\n",
            "plac==1.1.3\n",
            "plotly==4.4.1\n",
            "plotnine==0.6.0\n",
            "pluggy==0.7.1\n",
            "pooch==1.3.0\n",
            "portpicker==1.3.1\n",
            "prefetch-generator==1.0.1\n",
            "preshed==3.0.5\n",
            "prettytable==2.1.0\n",
            "progressbar2==3.38.0\n",
            "prometheus-client==0.10.1\n",
            "promise==2.3\n",
            "prompt-toolkit==1.0.18\n",
            "protobuf==3.12.4\n",
            "psutil==5.4.8\n",
            "psycopg2==2.7.6.1\n",
            "ptyprocess==0.7.0\n",
            "py==1.10.0\n",
            "py-cpuinfo==8.0.0\n",
            "pyarrow==2.0.0\n",
            "pyasn1==0.4.8\n",
            "pyasn1-modules==0.2.8\n",
            "pycocotools==2.0.2\n",
            "pycparser==2.20\n",
            "pyct==0.4.8\n",
            "pydata-google-auth==1.1.0\n",
            "pydot==1.3.0\n",
            "pydot-ng==2.0.0\n",
            "pydotplus==2.0.2\n",
            "PyDrive==1.3.1\n",
            "pyemd==0.5.1\n",
            "pyerfa==1.7.2\n",
            "pyglet==1.5.0\n",
            "Pygments==2.6.1\n",
            "pygobject==3.26.1\n",
            "pymc3==3.7\n",
            "PyMeeus==0.5.11\n",
            "pymongo==3.11.3\n",
            "pymystem3==0.2.0\n",
            "PyOpenGL==3.1.5\n",
            "pyparsing==2.4.7\n",
            "pyrsistent==0.17.3\n",
            "pysndfile==1.3.8\n",
            "PySocks==1.7.1\n",
            "pystan==2.19.1.1\n",
            "pytest==3.6.4\n",
            "python-apt==0.0.0\n",
            "python-chess==0.23.11\n",
            "python-dateutil==2.8.1\n",
            "python-louvain==0.15\n",
            "python-slugify==4.0.1\n",
            "python-utils==2.5.6\n",
            "pytz==2018.9\n",
            "pyviz-comms==2.0.1\n",
            "PyWavelets==1.1.1\n",
            "PyYAML==5.4.1\n",
            "pyzmq==22.0.3\n",
            "qdldl==0.1.5.post0\n",
            "qtconsole==5.0.3\n",
            "QtPy==1.9.0\n",
            "regex==2019.12.20\n",
            "requests==2.25.1\n",
            "requests-oauthlib==1.3.0\n",
            "resampy==0.2.2\n",
            "retrying==1.3.3\n",
            "rpy2==3.4.3\n",
            "rsa==4.7.2\n",
            "scikit-image==0.16.2\n",
            "scikit-learn==0.22.2.post1\n",
            "scipy==1.4.1\n",
            "screen-resolution-extra==0.0.0\n",
            "scs==2.1.3\n",
            "seaborn==0.11.1\n",
            "Send2Trash==1.5.0\n",
            "sentencepiece==0.1.95\n",
            "seqeval==1.2.2\n",
            "setuptools-git==1.2\n",
            "Shapely==1.7.1\n",
            "simplegeneric==0.8.1\n",
            "six==1.15.0\n",
            "sklearn==0.0\n",
            "sklearn-pandas==1.8.0\n",
            "smart-open==5.0.0\n",
            "snowballstemmer==2.1.0\n",
            "sortedcontainers==2.3.0\n",
            "SoundFile==0.10.3.post1\n",
            "spacy==2.2.4\n",
            "Sphinx==1.8.5\n",
            "sphinxcontrib-serializinghtml==1.1.4\n",
            "sphinxcontrib-websupport==1.2.4\n",
            "SQLAlchemy==1.4.7\n",
            "sqlparse==0.4.1\n",
            "srsly==1.0.5\n",
            "statsmodels==0.10.2\n",
            "sympy==1.7.1\n",
            "tables==3.4.4\n",
            "tabulate==0.8.9\n",
            "tb-nightly==2.6.0a20210426\n",
            "tblib==1.7.0\n",
            "tensorboard==1.12.2\n",
            "tensorboard-data-server==0.6.0\n",
            "tensorboard-plugin-wit==1.8.0\n",
            "tensorflow==2.4.1\n",
            "tensorflow-addons==0.12.1\n",
            "tensorflow-datasets==4.0.1\n",
            "tensorflow-estimator==2.4.0\n",
            "tensorflow-gcs-config==2.4.0\n",
            "tensorflow-hub==0.12.0\n",
            "tensorflow-metadata==0.29.0\n",
            "tensorflow-model-optimization==0.5.0\n",
            "tensorflow-probability==0.12.1\n",
            "termcolor==1.1.0\n",
            "terminado==0.9.4\n",
            "testpath==0.4.4\n",
            "text-unidecode==1.3\n",
            "textblob==0.15.3\n",
            "textgenrnn==1.4.1\n",
            "tf-models-official==2.4.0\n",
            "tf-slim==1.1.0\n",
            "Theano==1.0.5\n",
            "thinc==7.4.0\n",
            "tifffile==2021.4.8\n",
            "toml==0.10.2\n",
            "toolz==0.11.1\n",
            "torch==1.8.1+cu101\n",
            "torchsummary==1.5.1\n",
            "torchtext==0.9.1\n",
            "torchvision==0.9.1+cu101\n",
            "tornado==5.1.1\n",
            "tqdm==4.41.1\n",
            "traitlets==5.0.5\n",
            "tweepy==3.10.0\n",
            "typeguard==2.7.1\n",
            "typing-extensions==3.7.4.3\n",
            "tzlocal==1.5.1\n",
            "uritemplate==3.0.1\n",
            "urllib3==1.24.3\n",
            "vega-datasets==0.9.0\n",
            "virtualenv==20.4.4\n",
            "wasabi==0.8.2\n",
            "wcwidth==0.2.5\n",
            "webencodings==0.5.1\n",
            "Werkzeug==1.0.1\n",
            "widgetsnbextension==3.5.1\n",
            "wordcloud==1.5.0\n",
            "wrapt==1.12.1\n",
            "xarray==0.15.1\n",
            "xgboost==0.90\n",
            "xkit==0.0.0\n",
            "xlrd==1.1.0\n",
            "xlwt==1.3.0\n",
            "yellowbrick==0.9.1\n",
            "zict==2.0.0\n",
            "zipp==3.4.1\n"
          ],
          "name": "stdout"
        }
      ]
    },
    {
      "cell_type": "code",
      "metadata": {
        "id": "WHhofPcjNDsc"
      },
      "source": [
        ""
      ],
      "execution_count": null,
      "outputs": []
    }
  ]
}